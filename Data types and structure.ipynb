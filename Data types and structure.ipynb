{
 "cells": [
  {
   "cell_type": "markdown",
   "id": "100785d7-784a-42ca-80fd-af7327688497",
   "metadata": {},
   "source": [
    "# Data types and structures"
   ]
  },
  {
   "cell_type": "markdown",
   "id": "8c375f1e-8bac-4072-99be-150e6f56373c",
   "metadata": {},
   "source": [
    "1.**What are data structures, and why are they important ?**\n",
    " - Data structures are specialized format used to store,organise and accessing collection of data.In data structure data can be stored on the basis of their preference and use case.\n",
    " -> Data structures are important due to various reasons:\n",
    " - Data structure helps in making your program efficient.\n",
    " - Improves memory efficiency\n",
    " - Simplify data manipulation(adding, removing and modifying)\n",
    " - Optimise searching and sorting operations\n",
    "\n",
    "2.**Explain the difference between mutable and immutable data types with examples?**\n",
    " - **Mutable data types** -> It means data can be modified after it's creation.e.g. List[],Set{},Dictionaries{key:value}.\n",
    " - **Immutable data types** -> It means data can't be modified after it;s creation. e.g. Tuple(),int,string\"\".\n",
    "\n",
    "3.**What are the main differences between lists and tuples in Python?**\n",
    " - **Lists:**\n",
    " - Lists are mutable.\n",
    " - syntax: []\n",
    " - List are less memory efficient\n",
    " - Lists are used when data modification is required \n",
    " - **Tuples:**\n",
    " - Tuples are immutable.\n",
    " - syntax: ()\n",
    " - Tuples are memory efficient.\n",
    " - Tuples are used when data integrity is required.\n",
    "\n",
    "4.**Describe how dictionaries store data?**\n",
    " - Dictionary store data in unique key, value form.Key need to be of immutable type and in value any type of data can be stored.\n",
    " - syntax {key:value}\n",
    "\n",
    "5.**Why might you use a set instead of a list in Python?**\n",
    " - Set are preferred over lists when data duplicacy is not needed and when you need to find union, intersection and difference between two set.\n",
    " - Data access is fast as compare to lists.\n",
    "\n",
    "6.**What is a string in Python, and how is it different from a list?**\n",
    " - String is a sequence of characters enclosed in parenthesis.We can perform different operations on character like upper,lower,capitalize and slicing.\n",
    " - Strings are immutable.syntax: \"String\"\n",
    " - Lists is ordered collection of different data types.[1,1.5,\"string\"]\n",
    " - Lists are immutable\n",
    "\n",
    "7.**How do tuples ensure data integrity in Python?**\n",
    " - Tuples are immutable that means  data can't be modified after it's creation.\n",
    "\n",
    "8.**What is a hash table, and how does it relate to dictionaries in Python?**\n",
    " - Hash table is used to map keys to the value using hash functions.It enables dictionaried for faster data access.\n",
    "\n",
    "9.**Can lists contain different data types in Python?**\n",
    " - Yes, lists contain different data types.[1,1.5,\"string\"}\n",
    "\n",
    "10.**Explain why strings are immutable in Python?**\n",
    " - Strings are immutable to maintain data integrity and memory efficiency.\n",
    "\n",
    "11.**What advantages do dictionaries offer over lists for certain tasks?**\n",
    " - Dictionaries provides faster data access as compare to lists.\n",
    " - Dictionary are memory efficient as compare to Lists.\n",
    " - Dictionaries can store large structured data in the form of key, value pairs.\n",
    "\n",
    "12.**Describe a scenario where using a tuple would be preferable over a list?**\n",
    " - Tuple are preferred over lists where data integrity is the main concern. e.g. storing long ,latt or number of days.(\"Monday\",\"Tuesday\",\"Wednesday\")\n",
    "\n",
    "13.**How do sets handle duplicate values in Python?**\n",
    " - Set removes duplicate values.Set only stores unique values.\n",
    "\n",
    "14.**How does the “in” keyword work differently for lists and dictionaries?**\n",
    " - In keyword in lists checks for the value through entire list.\n",
    " - In keyword in dictionaries only check for unique key.\n",
    "\n",
    "15.**Can you modify the elements of a tuple? Explain why or why not?**\n",
    " - No because tuples are immutable.\n",
    "\n",
    "16.**What is a nested dictionary, and give an example of its use case?**\n",
    " - Nested dictionary is dictionary created inside value of a dictionary.It can be used store different model of cars of a particular brand.\n",
    " - {\"Maruti Suzuki\": {\"Alto\",\"Swift\",\"Dzire\",\"Baleno\",\"Ciaz\"}}\n",
    "\n",
    "17.**Describe the time complexity of accessing elements in a dictionary?**\n",
    " - Time complexity of dictionary is O(1) due to hash table.\n",
    "\n",
    "18.**In what situations are lists preferred over dictionaries?**\n",
    " - Lists are preferred when:\n",
    " - Data is small and simple.\n",
    " - When data need to be accessed using indexing.\n",
    "\n",
    "19.**Why are dictionaries considered unordered, and how does that affect data retrieval?**\n",
    " - Dictionaries are considered unordered because data can not be accessed on the basis of indexing.So data can't be accessed in sequential order.but after python 3.7 data can be accessed\n",
    "   using keys.\n",
    " - e.g. my_dict = {'Name':'Rupesh'} (my_ict['Name'] can be used to access its value)\n",
    "\n",
    "20.**Explain the difference between a list and a dictionary in terms of data retrieval.?**\n",
    " - **LIST** -> Data is retrieved by indexing.\n",
    " - **DICTIONARY** -> Data is retrieved by using key. \n",
    "   \n"
   ]
  },
  {
   "cell_type": "code",
   "execution_count": 3,
   "id": "56e6bbe8-19f8-4313-ac80-e60648fecd45",
   "metadata": {},
   "outputs": [
    {
     "name": "stdout",
     "output_type": "stream",
     "text": [
      "Rupesh Rana\n"
     ]
    }
   ],
   "source": [
    "# 1. Write a code to create a string with your name and print it\n",
    "name = \"Rupesh Rana\"\n",
    "print(name)"
   ]
  },
  {
   "cell_type": "code",
   "execution_count": 5,
   "id": "63dc77dd-589d-447e-bf8f-7b30a00de43c",
   "metadata": {},
   "outputs": [
    {
     "name": "stdout",
     "output_type": "stream",
     "text": [
      "11\n"
     ]
    }
   ],
   "source": [
    "# 2. Write a code to find the length of the string \"Hello World\"\n",
    "print(len(\"Hello World\"))"
   ]
  },
  {
   "cell_type": "code",
   "execution_count": 7,
   "id": "680573c3-4eac-40d7-a110-5affb719fb2b",
   "metadata": {},
   "outputs": [
    {
     "name": "stdout",
     "output_type": "stream",
     "text": [
      "Pyt\n"
     ]
    }
   ],
   "source": [
    "# 3.  Write a code to slice the first 3 characters from the string \"Python Programming\"\n",
    "var = \"Python Programming\"\n",
    "print(var[:3])"
   ]
  },
  {
   "cell_type": "code",
   "execution_count": 9,
   "id": "ac39aaaf-3c52-49fe-90ac-c0916f4749bb",
   "metadata": {},
   "outputs": [
    {
     "name": "stdout",
     "output_type": "stream",
     "text": [
      "HELLO\n"
     ]
    }
   ],
   "source": [
    "# 4. Write a code to convert the string \"hello\" to uppercase\n",
    "var = \"hello\"\n",
    "print(var.upper())"
   ]
  },
  {
   "cell_type": "code",
   "execution_count": 21,
   "id": "2447ad7c-55d7-4114-8e3a-8e0e6a15b84d",
   "metadata": {},
   "outputs": [
    {
     "name": "stdout",
     "output_type": "stream",
     "text": [
      "I like orange\n"
     ]
    }
   ],
   "source": [
    "# 5. Write a code to replace the word \"apple\" with \"orange\" in the string \"I like apple\"\n",
    "var = \"I like apple\"\n",
    "var1 = var.replace(\"apple\", \"orange\")\n",
    "print(var1)"
   ]
  },
  {
   "cell_type": "code",
   "execution_count": 23,
   "id": "9cf09079-cc02-4c6b-a9cd-0bf68f7422dc",
   "metadata": {},
   "outputs": [
    {
     "name": "stdout",
     "output_type": "stream",
     "text": [
      "[1, 2, 3, 4, 5]\n"
     ]
    }
   ],
   "source": [
    "# 6. Write a code to create a list with numbers 1 to 5 and print it\n",
    "var = []\n",
    "for i in range(1,6):\n",
    "    var.append(i)\n",
    "print(var)"
   ]
  },
  {
   "cell_type": "code",
   "execution_count": 27,
   "id": "4a3e01bd-55e4-41ee-b3b0-dae99dbdbd80",
   "metadata": {},
   "outputs": [
    {
     "name": "stdout",
     "output_type": "stream",
     "text": [
      "[1, 2, 3, 4, 10]\n"
     ]
    }
   ],
   "source": [
    "# 7. Write a code to append the number 10 to the list [1, 2, 3, 4]\n",
    "var = [1, 2, 3, 4]\n",
    "var.append(10)\n",
    "print(var)"
   ]
  },
  {
   "cell_type": "code",
   "execution_count": 29,
   "id": "be6cc947-0998-4035-bfe6-f5d5edba3077",
   "metadata": {},
   "outputs": [
    {
     "name": "stdout",
     "output_type": "stream",
     "text": [
      "[1, 2, 4, 5]\n"
     ]
    }
   ],
   "source": [
    "# 8.  Write a code to remove the number 3 from the list [1, 2, 3, 4, 5]\n",
    "var = [1, 2, 3, 4, 5]\n",
    "var.remove(3)\n",
    "print(var)\n"
   ]
  },
  {
   "cell_type": "code",
   "execution_count": 31,
   "id": "466978df-412e-42b7-8d3d-4733b4b6be3e",
   "metadata": {},
   "outputs": [
    {
     "name": "stdout",
     "output_type": "stream",
     "text": [
      "b\n"
     ]
    }
   ],
   "source": [
    "# 9. Write a code to access the second element in the list ['a', 'b', 'c', 'd']\n",
    "var = ['a', 'b', 'c', 'd']\n",
    "print(var[1])"
   ]
  },
  {
   "cell_type": "code",
   "execution_count": 35,
   "id": "3ac43b3f-33e8-4485-9c10-d6cd350c30c5",
   "metadata": {},
   "outputs": [
    {
     "name": "stdout",
     "output_type": "stream",
     "text": [
      "[50, 40, 30, 20, 10]\n"
     ]
    }
   ],
   "source": [
    "# 10. Write a code to reverse the list [10, 20, 30, 40, 50]\n",
    "var = [10, 20, 30, 40, 50]\n",
    "var.reverse()\n",
    "print(var)"
   ]
  },
  {
   "cell_type": "code",
   "execution_count": 37,
   "id": "c5d9ffbb-ebbf-48f5-94ac-8eb1f8523c53",
   "metadata": {},
   "outputs": [
    {
     "name": "stdout",
     "output_type": "stream",
     "text": [
      "(10, 20, 30)\n"
     ]
    }
   ],
   "source": [
    "# 11.& 18. Write a code to create a tuple with the elements 10, 20, 30 and print it.\n",
    "var = (10,20,30)\n",
    "print(var)"
   ]
  },
  {
   "cell_type": "code",
   "execution_count": 39,
   "id": "a54ad3a7-a7a5-49f5-932f-8729f6bf9d6b",
   "metadata": {},
   "outputs": [
    {
     "name": "stdout",
     "output_type": "stream",
     "text": [
      "apple\n"
     ]
    }
   ],
   "source": [
    "# 12.  Write a code to access the first element of the tuple ('apple', 'banana', 'cherry')\n",
    "var = ('apple', 'banana', 'cherry')\n",
    "print(var[0])"
   ]
  },
  {
   "cell_type": "code",
   "execution_count": 43,
   "id": "1d422f50-b55c-43bb-82d0-691083151d5a",
   "metadata": {},
   "outputs": [
    {
     "name": "stdout",
     "output_type": "stream",
     "text": [
      "3\n"
     ]
    }
   ],
   "source": [
    "# 13. Write a code to count how many times the number 2 appears in the tuple (1, 2, 3, 2, 4, 2)\n",
    "var = (1, 2, 3, 2, 4, 2)\n",
    "print(var.count(2))\n"
   ]
  },
  {
   "cell_type": "code",
   "execution_count": 45,
   "id": "6dc48792-9a5f-452a-9a29-6d5fa8433840",
   "metadata": {},
   "outputs": [
    {
     "name": "stdout",
     "output_type": "stream",
     "text": [
      "1\n"
     ]
    }
   ],
   "source": [
    "#  14. Write a code to find the index of the element \"cat\" in the tuple ('dog', 'cat', 'rabbit').\n",
    "var = ('dog', 'cat', 'rabbit')\n",
    "print(var.index(\"cat\"))"
   ]
  },
  {
   "cell_type": "code",
   "execution_count": 49,
   "id": "67c6d50d-9539-40fc-998d-5e39d8cd841a",
   "metadata": {},
   "outputs": [
    {
     "name": "stdout",
     "output_type": "stream",
     "text": [
      "True\n"
     ]
    }
   ],
   "source": [
    "# 15. Write a code to check if the element \"banana\" is in the tuple ('apple', 'orange', 'banana')\n",
    "var = ('apple', 'orange', 'banana')\n",
    "if 'banana' in var:\n",
    "    print(True)"
   ]
  },
  {
   "cell_type": "code",
   "execution_count": 55,
   "id": "b53dba88-f252-4716-a0ca-881c0fc76953",
   "metadata": {},
   "outputs": [
    {
     "name": "stdout",
     "output_type": "stream",
     "text": [
      "{1, 2, 3, 4, 5}\n"
     ]
    }
   ],
   "source": [
    "# 16. Write a code to create a set with the elements 1, 2, 3, 4, 5 and print it.\n",
    "var = set()\n",
    "for i in range(1,6):\n",
    "    var.add(i)\n",
    "print(var)"
   ]
  },
  {
   "cell_type": "code",
   "execution_count": 57,
   "id": "d039ad6d-ae1f-4b2f-a355-6aa428c538d6",
   "metadata": {},
   "outputs": [
    {
     "name": "stdout",
     "output_type": "stream",
     "text": [
      "{1, 2, 3, 4, 6}\n"
     ]
    }
   ],
   "source": [
    "# 17. Write a code to add the element 6 to the set {1, 2, 3, 4}\n",
    "var = {1, 2, 3, 4}\n",
    "var.add(6)\n",
    "print(var)"
   ]
  },
  {
   "cell_type": "code",
   "execution_count": null,
   "id": "dffecd12-765a-437b-99e3-d187650fd4e4",
   "metadata": {},
   "outputs": [],
   "source": [
    "# Questions 18 to 24 are repeated"
   ]
  }
 ],
 "metadata": {
  "kernelspec": {
   "display_name": "Python 3 (ipykernel)",
   "language": "python",
   "name": "python3"
  },
  "language_info": {
   "codemirror_mode": {
    "name": "ipython",
    "version": 3
   },
   "file_extension": ".py",
   "mimetype": "text/x-python",
   "name": "python",
   "nbconvert_exporter": "python",
   "pygments_lexer": "ipython3",
   "version": "3.12.7"
  }
 },
 "nbformat": 4,
 "nbformat_minor": 5
}
